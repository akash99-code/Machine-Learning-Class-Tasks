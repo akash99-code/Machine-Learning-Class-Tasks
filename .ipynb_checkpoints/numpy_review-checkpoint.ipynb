{
 "cells": [
  {
   "cell_type": "markdown",
   "metadata": {},
   "source": [
    "In this tutorial, we review `Mathematics` for `Machine Learning`  using `numpy` module."
   ]
  },
  {
   "cell_type": "code",
   "execution_count": 1,
   "metadata": {},
   "outputs": [],
   "source": [
    "#load numpy\n",
    "import numpy as np"
   ]
  },
  {
   "cell_type": "markdown",
   "metadata": {},
   "source": [
    "Q1.  In a numpy array replace all odd position numbers with 0?"
   ]
  },
  {
   "cell_type": "code",
   "execution_count": 17,
   "metadata": {},
   "outputs": [
    {
     "data": {
      "text/plain": [
       "array([6, 4, 7, 3, 8, 6, 3, 8, 1, 3, 8, 4, 3, 9, 9, 6, 8, 4, 3, 7])"
      ]
     },
     "execution_count": 17,
     "metadata": {},
     "output_type": "execute_result"
    }
   ],
   "source": [
    "## Creating a numpy array\n",
    "arr = np.random.randint(1,10,20)\n",
    "arr"
   ]
  },
  {
   "cell_type": "code",
   "execution_count": 18,
   "metadata": {},
   "outputs": [
    {
     "data": {
      "text/plain": [
       "array([6, 0, 7, 0, 8, 0, 3, 0, 1, 0, 8, 0, 3, 0, 9, 0, 8, 0, 3, 0])"
      ]
     },
     "execution_count": 18,
     "metadata": {},
     "output_type": "execute_result"
    }
   ],
   "source": [
    "for i in range(len(arr)):\n",
    "    if i%2==1:\n",
    "        arr[i] = 0\n",
    "        \n",
    "arr"
   ]
  },
  {
   "cell_type": "markdown",
   "metadata": {},
   "source": [
    "Q2. What is the difference between the objects np.ndarray and np.array?"
   ]
  },
  {
   "cell_type": "code",
   "execution_count": 23,
   "metadata": {},
   "outputs": [
    {
     "data": {
      "text/plain": [
       "numpy.ndarray"
      ]
     },
     "execution_count": 23,
     "metadata": {},
     "output_type": "execute_result"
    }
   ],
   "source": [
    "arr = np.array([15,454,35,54,5,13,14,16,6])  ## np.array() is a method used for creating a nunpy array\n",
    "type(arr)  ## datatype of a numpy object is ndarray"
   ]
  },
  {
   "cell_type": "markdown",
   "metadata": {},
   "source": [
    "Q3. What is the difference, if any, between the following statements:"
   ]
  },
  {
   "cell_type": "code",
   "execution_count": 21,
   "metadata": {},
   "outputs": [],
   "source": [
    "a = np.array ([0, 0, 0])    ## it is a 1-dimemsional array\n",
    "a = np.array ([[0 , 0, 0]])  ## it is a 2-dimemsional array"
   ]
  },
  {
   "cell_type": "code",
   "execution_count": 37,
   "metadata": {},
   "outputs": [
    {
     "name": "stdout",
     "output_type": "stream",
     "text": [
      "shape of np.array([0, 0, 0]) - (3,) , Dimensions - 1\n",
      "shape of np.array([[0, 0, 0]]) - (1, 3) , Dimensions - 2\n"
     ]
    }
   ],
   "source": [
    "print(\"shape of np.array([0, 0, 0]) -\", np.array ([0, 0, 0]).shape, \", Dimensions -\", np.array ([0, 0, 0]).ndim)\n",
    "print(\"shape of np.array([[0, 0, 0]]) -\", np.array ([[0, 0, 0]]).shape, \", Dimensions -\", np.array ([[0, 0, 0]]).ndim)"
   ]
  },
  {
   "cell_type": "markdown",
   "metadata": {},
   "source": [
    "Q4. A 3 × 4 × 4 array is created with entries from 1 to 48 and having shape `(3,4,4)` "
   ]
  },
  {
   "cell_type": "code",
   "execution_count": 43,
   "metadata": {},
   "outputs": [
    {
     "data": {
      "text/plain": [
       "array([[[ 1,  2,  3,  4],\n",
       "        [ 5,  6,  7,  8],\n",
       "        [ 9, 10, 11, 12],\n",
       "        [13, 14, 15, 16]],\n",
       "\n",
       "       [[17, 18, 19, 20],\n",
       "        [21, 22, 23, 24],\n",
       "        [25, 26, 27, 28],\n",
       "        [29, 30, 31, 32]],\n",
       "\n",
       "       [[33, 34, 35, 36],\n",
       "        [37, 38, 39, 40],\n",
       "        [41, 42, 43, 44],\n",
       "        [45, 46, 47, 48]]])"
      ]
     },
     "execution_count": 43,
     "metadata": {},
     "output_type": "execute_result"
    }
   ],
   "source": [
    "## np.arange gives a 1-d array including the numbers in a range\n",
    "## reshape method can be used to transorm an array into desired dimensions\n",
    "A = np.arange(1,49).reshape((3,4,4))\n",
    "A"
   ]
  },
  {
   "cell_type": "markdown",
   "metadata": {},
   "source": [
    "Q5. Index or slice in above array to get the following:\n",
    "\n",
    "- 20.0\n",
    "- [9. 10. 11. 12]\n",
    "- The 3x2 array\n",
    "  \n",
    "  [[5., 6.],  \n",
    "   [21.,22.],  \n",
    "   [37., 38.]]"
   ]
  },
  {
   "cell_type": "code",
   "execution_count": 58,
   "metadata": {},
   "outputs": [
    {
     "name": "stdout",
     "output_type": "stream",
     "text": [
      "1. A[1][0][3] -  20\n",
      "2. A[0][2] - [ 9 10 11 12]\n",
      "3. A[:,1,0:2] -\n",
      " [[ 5  6]\n",
      " [21 22]\n",
      " [37 38]]\n"
     ]
    }
   ],
   "source": [
    "#1.\n",
    "print(\"1. A[1][0][3] - \", A[1][0][3]) ## indexing\n",
    "\n",
    "#2.\n",
    "print(\"2. A[0][2] -\", A[0][2]) ## indexing\n",
    "\n",
    "#3.\n",
    "print(\"3. A[:,1,0:2] -\\n\", A[:,1,0:2]) ## slicing"
   ]
  },
  {
   "cell_type": "markdown",
   "metadata": {},
   "source": [
    "Q5. How to swap two columns in a 2d numpy array?"
   ]
  },
  {
   "cell_type": "code",
   "execution_count": 66,
   "metadata": {},
   "outputs": [
    {
     "name": "stdout",
     "output_type": "stream",
     "text": [
      "before swapping :\n",
      " [[24 17 16 18 20]\n",
      " [24 15 24 11 15]\n",
      " [21 19  2  4  5]\n",
      " [22  9  2 13 21]\n",
      " [10  5  3  5 14]] \n",
      "\n",
      "after swapping 1st and last columns:\n",
      " [[20 17 16 18 24]\n",
      " [15 15 24 11 24]\n",
      " [ 5 19  2  4 21]\n",
      " [21  9  2 13 22]\n",
      " [14  5  3  5 10]]\n"
     ]
    }
   ],
   "source": [
    "arr = np.random.randint(1,25,(5,5))  ## Creating an array using with random values\n",
    "print(\"before swapping :\\n\", arr,\"\\n\")\n",
    "\n",
    "arr[:,[0,4]]=arr[:,[4,0]]\n",
    "print(\"after swapping 1st and last columns:\\n\", arr )\n"
   ]
  },
  {
   "cell_type": "markdown",
   "metadata": {},
   "source": [
    "Q6. How to reverse the columns of a 2D array?"
   ]
  },
  {
   "cell_type": "code",
   "execution_count": 67,
   "metadata": {},
   "outputs": [
    {
     "name": "stdout",
     "output_type": "stream",
     "text": [
      "before reversing :\n",
      " [[20 17 16 18 24]\n",
      " [15 15 24 11 24]\n",
      " [ 5 19  2  4 21]\n",
      " [21  9  2 13 22]\n",
      " [14  5  3  5 10]] \n",
      "\n",
      "after swapping 1st and last columns:\n",
      " [[24 18 16 17 20]\n",
      " [24 11 24 15 15]\n",
      " [21  4  2 19  5]\n",
      " [22 13  2  9 21]\n",
      " [10  5  3  5 14]]\n"
     ]
    }
   ],
   "source": [
    "print(\"before reversing :\\n\", arr,\"\\n\")\n",
    "\n",
    "## using np.flip()\n",
    "print(\"after swapping 1st and last columns:\\n\", np.flip(arr, axis=1) )\n"
   ]
  },
  {
   "cell_type": "markdown",
   "metadata": {},
   "source": [
    "Q7. How to print only 3 decimal places in python numpy array?"
   ]
  },
  {
   "cell_type": "code",
   "execution_count": 75,
   "metadata": {},
   "outputs": [
    {
     "name": "stdout",
     "output_type": "stream",
     "text": [
      "Array - [0.86003536 0.84448381 0.72749302 0.72156916 0.17747922 0.87598035\n",
      " 0.81011295 0.32917994 0.81825319 0.22497942] \n",
      "\n",
      "3 decimal palces :\n",
      "[0.86  0.844 0.727 0.722 0.177 0.876 0.81  0.329 0.818 0.225]\n",
      "[0.86  0.844 0.727 0.722 0.177 0.876 0.81  0.329 0.818 0.225]\n"
     ]
    }
   ],
   "source": [
    "arr = np.random.rand(10)\n",
    "print(\"Array -\", arr,\"\\n\")\n",
    "\n",
    "\n",
    "print(\"3 decimal palces :\")\n",
    "print(np.around(arr,3))   ## using np.around()\n",
    "print(np.array_str(arr, precision=3))  ## using np.array_std()"
   ]
  },
  {
   "cell_type": "markdown",
   "metadata": {},
   "source": [
    "Q8. How to pretty print a numpy array by suppressing the scientific notation (like `1e10`)?"
   ]
  },
  {
   "cell_type": "code",
   "execution_count": 129,
   "metadata": {},
   "outputs": [
    {
     "name": "stdout",
     "output_type": "stream",
     "text": [
      "[1.5e-10 1.5e+00 1.0e-10]\n",
      "[0.  1.5 0. ]\n"
     ]
    }
   ],
   "source": [
    "arr=np.array([1.5e-10,1.5,1e-10])\n",
    "print(arr) \n",
    "\n",
    "##\n",
    "np.set_printoptions(suppress=True)\n",
    "print(arr)"
   ]
  },
  {
   "cell_type": "markdown",
   "metadata": {},
   "source": [
    "Q9.  Take any two arrays and stack them horizontally?"
   ]
  },
  {
   "cell_type": "code",
   "execution_count": 151,
   "metadata": {},
   "outputs": [
    {
     "name": "stdout",
     "output_type": "stream",
     "text": [
      "arr1 :  [4 5 4 1 5]\n",
      "arr2 :  [8 5 8 4 3]\n",
      "[arr1,arr2] : [4 5 4 1 5 8 5 8 4 3]\n"
     ]
    }
   ],
   "source": [
    "arr1 = np.random.randint(1,6,size=5)\n",
    "arr2 = np.random.randint(3,10,size=5)\n",
    "\n",
    "print(\"arr1 : \", arr1)\n",
    "print(\"arr2 : \", arr2)\n",
    "print(\"[arr1,arr2] :\", np.hstack((arr1, arr2)))  ##using np.hstack()"
   ]
  },
  {
   "cell_type": "markdown",
   "metadata": {},
   "source": [
    "Q10. How to get the common items between two python numpy arrays?"
   ]
  },
  {
   "cell_type": "code",
   "execution_count": 152,
   "metadata": {},
   "outputs": [
    {
     "data": {
      "text/plain": [
       "array([4, 5])"
      ]
     },
     "execution_count": 152,
     "metadata": {},
     "output_type": "execute_result"
    }
   ],
   "source": [
    "##using np.intersect1d\n",
    "np.intersect1d(arr1, arr2)"
   ]
  },
  {
   "cell_type": "markdown",
   "metadata": {},
   "source": [
    "Q11. How to get the positions where elements of two arrays match?"
   ]
  },
  {
   "cell_type": "code",
   "execution_count": 154,
   "metadata": {},
   "outputs": [
    {
     "data": {
      "text/plain": [
       "(array([0, 1, 2, 4], dtype=int64),)"
      ]
     },
     "execution_count": 154,
     "metadata": {},
     "output_type": "execute_result"
    }
   ],
   "source": [
    "## using in1d which gives boolean array \n",
    "np.in1d(arr1, arr2).nonzero()"
   ]
  },
  {
   "cell_type": "markdown",
   "metadata": {},
   "source": [
    "Q12. How to compute the mean, median, standard deviation of a numpy array?"
   ]
  },
  {
   "cell_type": "code",
   "execution_count": 159,
   "metadata": {},
   "outputs": [
    {
     "name": "stdout",
     "output_type": "stream",
     "text": [
      "Array - [0.0588791  0.91165949 0.6797407  0.54016741 0.46422018 0.14390568\n",
      " 0.97620561 0.51131306 0.36045894 0.03350965] \n",
      "\n",
      "mean - 0.46800598070230376\n",
      "median - 0.4877666201264723\n",
      "Standard Deviation- 0.3130180891170212\n"
     ]
    }
   ],
   "source": [
    "arr = np.random.rand(10)\n",
    "print(\"Array -\", arr,\"\\n\")\n",
    "\n",
    "\n",
    "print(\"mean -\", arr.mean())\n",
    "print(\"median -\",np.median(arr))\n",
    "print(\"Standard Deviation-\",arr.std())"
   ]
  },
  {
   "cell_type": "markdown",
   "metadata": {},
   "source": [
    "Q13.  How to normalize an array so the values range exactly between 0 and 1?"
   ]
  },
  {
   "cell_type": "code",
   "execution_count": 165,
   "metadata": {},
   "outputs": [
    {
     "name": "stdout",
     "output_type": "stream",
     "text": [
      "Array - [-10   9  -9  -9   6  -3   9  -1  -4  -1   5  -1  -9  -1  -6  -5   9  -7\n",
      "  -1   5] \n",
      "\n",
      "Min-Max Scaling - [0.         1.         0.05263158 0.05263158 0.84210526 0.36842105\n",
      " 1.         0.47368421 0.31578947 0.47368421 0.78947368 0.47368421\n",
      " 0.05263158 0.47368421 0.21052632 0.26315789 1.         0.15789474\n",
      " 0.47368421 0.78947368]\n"
     ]
    }
   ],
   "source": [
    "arr = np.random.randint(-10,10,20)\n",
    "print(\"Array -\", arr,\"\\n\")\n",
    "\n",
    "print(\"Min-Max Scaling -\", (arr-min(arr))/(max(arr)-min(arr)))"
   ]
  },
  {
   "cell_type": "markdown",
   "metadata": {},
   "source": [
    "Q14. Find the eigen-values and eigen vectors for a 3x3 matrix A?"
   ]
  },
  {
   "cell_type": "code",
   "execution_count": 172,
   "metadata": {},
   "outputs": [
    {
     "name": "stdout",
     "output_type": "stream",
     "text": [
      "Array - [[5 5 8]\n",
      " [5 8 4]\n",
      " [9 3 1]] \n",
      "\n",
      "Eigen Values: [16.23167669 -5.70073101  3.46905432]\n"
     ]
    }
   ],
   "source": [
    "arr = np.random.randint(1,10,(3,3))\n",
    "print(\"Array -\", arr,\"\\n\")\n",
    "\n",
    "print(\"Eigen Values:\", np.linalg.eig(arr)[0])"
   ]
  },
  {
   "cell_type": "markdown",
   "metadata": {},
   "source": [
    "Q15. Find the $\\ell_2$ and $\\ell_4$ norms of a vector $v=(1,2,3)$?"
   ]
  },
  {
   "cell_type": "code",
   "execution_count": 177,
   "metadata": {},
   "outputs": [
    {
     "name": "stdout",
     "output_type": "stream",
     "text": [
      "Array - [1 2 3] \n",
      "\n",
      "L2 norm : 3.7416573867739413\n",
      "L4 norm : 3.1463462836457885\n"
     ]
    }
   ],
   "source": [
    "arr = np.array([1,2,3])\n",
    "print(\"Array -\", arr,\"\\n\")\n",
    "\n",
    "print(\"L2 norm :\", np.linalg.norm(arr, 2))\n",
    "print(\"L4 norm :\", np.linalg.norm(arr, 4))"
   ]
  },
  {
   "cell_type": "markdown",
   "metadata": {},
   "source": [
    "Q16. Generate a 3x3 matrix having real numbers from 0 to 10. Perform SVD and Cholensky decomposition."
   ]
  },
  {
   "cell_type": "code",
   "execution_count": 226,
   "metadata": {},
   "outputs": [
    {
     "name": "stdout",
     "output_type": "stream",
     "text": [
      "Array - [[7 7 3]\n",
      " [3 6 2]\n",
      " [1 2 3]] \n",
      "\n",
      "SVD decompostion: \n",
      "U - [[-0.80776074  0.39330321  0.43913002]\n",
      " [-0.53832476 -0.18851677 -0.82138169]\n",
      " [-0.24026868 -0.89987444  0.3640013 ]]\n",
      "Sigma - [12.72430462  2.29943523  1.67471473]\n",
      "Vt - [[-0.59017513 -0.73597822 -0.33170675]\n",
      " [ 0.56000606 -0.07729163 -0.82487527]\n",
      " [ 0.58145208 -0.67257866  0.45776786]] \n",
      "\n",
      "Cholensky decomposition: \n",
      "[[2.64575131 0.         0.        ]\n",
      " [1.13389342 2.17124059 0.        ]\n",
      " [0.37796447 0.72374686 1.52752523]]\n"
     ]
    }
   ],
   "source": [
    "arr = np.random.randint(0,10, (3,3))\n",
    "print(\"Array -\", arr,\"\\n\")\n",
    "\n",
    "print(\"SVD decompostion: \")\n",
    "svd = np.linalg.svd(arr)\n",
    "print(\"U -\",svd[0])\n",
    "print(\"Sigma -\", svd[1])\n",
    "print(\"Vt -\", svd[2],\"\\n\")\n",
    "\n",
    "print(\"Cholensky decomposition: \")\n",
    "print(np.linalg.cholesky(arr))"
   ]
  },
  {
   "cell_type": "markdown",
   "metadata": {},
   "source": [
    "Q16. Generate a 5x3 matrix $X$ having intergers from the set $\\{1,2,3,...,50\\}.$ Compute the following:\n",
    "- $X^TX$\n",
    "- rank of $X^TX$\n",
    "- the projection of the vector $y=(1,0,1)$ on the column space of $X.$ "
   ]
  },
  {
   "cell_type": "code",
   "execution_count": 37,
   "metadata": {},
   "outputs": [
    {
     "name": "stdout",
     "output_type": "stream",
     "text": [
      "Array - [[ 8  6 43]\n",
      " [41 24  1]\n",
      " [19 31 30]\n",
      " [29 39  9]\n",
      " [29  5 50]] \n",
      "\n",
      "XtX -  [[3788 2897 2666]\n",
      " [2897 3119 1813]\n",
      " [2666 1813 5331]] \n",
      "\n",
      "Rank of XtX - 3\n",
      "\n",
      "Projection of [1,0,1,0,0] - [ 0.69314708 -0.34849104  0.78811863  0.38801218  0.32814996]\n"
     ]
    }
   ],
   "source": [
    "X = np.random.randint(1,51, (5,3))\n",
    "print(\"Array -\", X,\"\\n\")\n",
    "\n",
    "A = np.matmul(X.T, X)\n",
    "print(\"XtX - \", A,\"\\n\")\n",
    "print(\"Rank of XtX -\", np.linalg.matrix_rank(A))\n",
    "\n",
    "P = np.matmul(np.matmul(X, np.linalg.inv(A)), X.T)    ## P = X (Xt X)^-1 Xt\n",
    "print(\"\\nProjection of [1,0,1,0,0] -\", np.matmul(P,np.array([1,0,1,0,0])))  ## p = Py"
   ]
  },
  {
   "cell_type": "markdown",
   "metadata": {},
   "source": [
    "Q17. Write a function `is_orthogonal`$(v1,v2, tol),$ where $v1$ and $v2$ are column vectors of the same size and $tol$ is a scalar value strictly larger than 0. The output should be 1 if the angle between $v1$ and $v2$ is within $tol$ of $\\pi/2;$  and 0 otherwise. You may assume that $v1$ and $v2$ are column vectors of the same size, and that $tol$ is a positive scalar."
   ]
  },
  {
   "cell_type": "code",
   "execution_count": 40,
   "metadata": {},
   "outputs": [
    {
     "data": {
      "text/plain": [
       "1"
      ]
     },
     "execution_count": 40,
     "metadata": {},
     "output_type": "execute_result"
    }
   ],
   "source": [
    "def is_orthogonal(v1, v2, tol):\n",
    "    \n",
    "    if v1.shape!=v2.shape or tol<=0 :\n",
    "        print(\"invalid input\")\n",
    "    else:\n",
    "        angle = np.arccos(np.dot(v1,v2)/(np.linalg.norm(a)*np.linalg.norm(b)))\n",
    "        if angle <= (tol*np.pi/2):\n",
    "            return 1\n",
    "        else:\n",
    "            return 0\n",
    "        \n",
    "is_orthogonal(np.array([1,0,1]),np.array([0,1,0]), 1)"
   ]
  },
  {
   "cell_type": "markdown",
   "metadata": {},
   "source": [
    "Q18. Find the projection of $a=(4,5,6)$ on the vector $b=(7,8,9)$?"
   ]
  },
  {
   "cell_type": "code",
   "execution_count": 30,
   "metadata": {},
   "outputs": [
    {
     "name": "stdout",
     "output_type": "stream",
     "text": [
      "projection of a on b:\n",
      " [[51.63435374]\n",
      " [45.18005952]\n",
      " [40.16005291]]\n"
     ]
    }
   ],
   "source": [
    "a = np.array([[4,5,6]])\n",
    "b = np.array([[7,8,9]])\n",
    "print(\"projection of a on b:\\n\", np.matmul(np.matmul(b,b.T)/np.dot(b.T,b),a.T))"
   ]
  },
  {
   "cell_type": "markdown",
   "metadata": {},
   "source": [
    "Q19. Find the `inner product` and  `outer product` of $a=(4,5,6)$ and $b=(7,8,9)$?"
   ]
  },
  {
   "cell_type": "code",
   "execution_count": 28,
   "metadata": {},
   "outputs": [
    {
     "name": "stdout",
     "output_type": "stream",
     "text": [
      "inner product - [[122]]\n",
      "outer product - [[28 32 36]\n",
      " [35 40 45]\n",
      " [42 48 54]]\n"
     ]
    }
   ],
   "source": [
    "print(\"inner product -\", np.inner(a,b))\n",
    "print(\"outer product -\",np.outer(a,b))"
   ]
  }
 ],
 "metadata": {
  "kernelspec": {
   "display_name": "Python 3 (ipykernel)",
   "language": "python",
   "name": "python3"
  },
  "language_info": {
   "codemirror_mode": {
    "name": "ipython",
    "version": 3
   },
   "file_extension": ".py",
   "mimetype": "text/x-python",
   "name": "python",
   "nbconvert_exporter": "python",
   "pygments_lexer": "ipython3",
   "version": "3.9.12"
  },
  "vscode": {
   "interpreter": {
    "hash": "0c3475d628a6e1891247424f441d1061dae8f5ba2fe4a38277c605d30418b22f"
   }
  }
 },
 "nbformat": 4,
 "nbformat_minor": 2
}
